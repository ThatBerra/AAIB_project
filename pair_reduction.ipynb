{
 "cells": [
  {
   "cell_type": "code",
   "execution_count": 1,
   "outputs": [],
   "source": [
    "import numpy as np\n",
    "import os\n",
    "from typing import List\n",
    "import cv2\n",
    "import scipy.ndimage"
   ],
   "metadata": {
    "collapsed": false
   }
  },
  {
   "cell_type": "markdown",
   "source": [
    "# Functions"
   ],
   "metadata": {
    "collapsed": false
   }
  },
  {
   "cell_type": "code",
   "execution_count": 2,
   "outputs": [],
   "source": [
    "def folderToPaths(folder: str):\n",
    "    entries = os.listdir(folder)\n",
    "    entries.sort()\n",
    "\n",
    "    return entries\n",
    "\n",
    "\n",
    "def filterTuples(l: list,\n",
    "                 fileFormatDiscriminator: str = 'png',\n",
    "                 pos1: int = -5,\n",
    "                 pos2: int = -6,\n",
    "                 idFile1: str = '1',\n",
    "                 idFile2: str = '2'):\n",
    "    tuples = []\n",
    "    singletons = []\n",
    "    for idx in range(1, len(l)):\n",
    "        start1 = pos1 if fileFormatDiscriminator in l[idx - 1] else pos2\n",
    "        start2 = pos1 if fileFormatDiscriminator in l[idx] else pos2\n",
    "        id1 = l[idx - 1][start1]\n",
    "        id2 = l[idx][start2]\n",
    "        if id1 == idFile1 and id2 == idFile2:\n",
    "            tuples.append((l[idx - 1], l[idx]))\n",
    "        elif id1 == idFile1:\n",
    "            singletons.append(l[idx - 1])\n",
    "\n",
    "            if idx == len(l) - 1:\n",
    "                singletons.append(l[idx])\n",
    "\n",
    "    return singletons, tuples\n",
    "\n",
    "\n",
    "def checkTuples(tuples: List[tuple], patientIDLength: int = 6):\n",
    "    for t in tuples:\n",
    "        assert t[0][:6] == t[1][:6]\n",
    "\n",
    "\n",
    "def checkLength(tuples: List[tuple], singletons: list, targetLen: int):\n",
    "    assert 2 * len(set(tuples)) + len(set(singletons)) == targetLen\n",
    "\n",
    "\n",
    "def detectNoisyImagesPaths(path1, path2, folderPath):\n",
    "    im1 = cv2.imread(os.path.join(folderPath, path1), flags = cv2.IMREAD_GRAYSCALE)\n",
    "    im1 = scipy.ndimage.gaussian_laplace(im1, sigma = 1)\n",
    "\n",
    "    im2 = cv2.imread(os.path.join(folderPath, path2), flags = cv2.IMREAD_GRAYSCALE)\n",
    "    im2 = scipy.ndimage.gaussian_laplace(im2, sigma = 1)\n",
    "\n",
    "    sum1 = np.sum(im1)\n",
    "    sum2 = np.sum(im2)\n",
    "\n",
    "    if sum1 > sum2:\n",
    "        return path1\n",
    "    elif sum2 > sum1:\n",
    "        return path2\n",
    "\n",
    "    else:\n",
    "        return None\n",
    "\n",
    "\n",
    "def detectBlurredImagesPaths(path1, path2, folderPath):\n",
    "    im1 = cv2.imread(os.path.join(folderPath, path1), flags = cv2.IMREAD_GRAYSCALE)\n",
    "    im1 = scipy.ndimage.gaussian_laplace(im1, sigma = 1)\n",
    "\n",
    "    im2 = cv2.imread(os.path.join(folderPath, path2), flags = cv2.IMREAD_GRAYSCALE)\n",
    "    im2 = scipy.ndimage.gaussian_laplace(im2, sigma = 1)\n",
    "\n",
    "    var1 = np.var(im1)\n",
    "    var2 = np.var(im2)\n",
    "\n",
    "    if var1 < var2:\n",
    "        return path1\n",
    "    elif var2 < var1:\n",
    "        return path2\n",
    "\n",
    "    else:\n",
    "        return None\n",
    "\n",
    "\n",
    "def getNoisyImagesPaths(tuples, folderPath):\n",
    "    cleanImagesPaths = []\n",
    "\n",
    "    for idx, t in enumerate(tuples):\n",
    "        #print(idx)\n",
    "        p = detectNoisyImagesPaths(path1 = t[0], path2 = t[1], folderPath = folderPath)\n",
    "\n",
    "        if p is not None:\n",
    "            cleanImagesPaths.append(p)\n",
    "\n",
    "    return cleanImagesPaths\n",
    "\n",
    "\n",
    "def getBlurredImagesPaths(tuples, folderPath):\n",
    "    cleanImagesPaths = []\n",
    "\n",
    "    for idx, t in enumerate(tuples):\n",
    "        #print(idx)\n",
    "        p = detectBlurredImagesPaths(path1 = t[0], path2 = t[1], folderPath = folderPath)\n",
    "\n",
    "        if p is not None:\n",
    "            cleanImagesPaths.append(p)\n",
    "\n",
    "    return cleanImagesPaths"
   ],
   "metadata": {
    "collapsed": false
   }
  },
  {
   "cell_type": "code",
   "execution_count": 3,
   "outputs": [],
   "source": [
    "def __sharpenImage(ima):\n",
    "    sharpen_kernel = np.array([[-1, -1, -1], [-1, 9, -1], [-1, -1, -1]])\n",
    "\n",
    "    sharpened = cv2.filter2D(ima, -1, sharpen_kernel)\n",
    "    # sharpened = cv2.filter2D(sharpened, -1, sharpen_kernel)\n",
    "\n",
    "    return sharpened"
   ],
   "metadata": {
    "collapsed": false
   }
  },
  {
   "cell_type": "code",
   "execution_count": 4,
   "metadata": {
    "collapsed": true
   },
   "outputs": [],
   "source": [
    "f = \"data/train_all_no_duplicates\"\n",
    "duplicates_folder = 'data/train_duplicates_to_remove'\n",
    "noisy_folder = 'data/train_noisy'\n",
    "temp_folder = 'data/temp'\n",
    "paths = folderToPaths(folder = f)\n",
    "singletons, tuples = filterTuples(paths)"
   ]
  },
  {
   "cell_type": "code",
   "execution_count": 5,
   "outputs": [],
   "source": [
    "checkTuples(tuples)"
   ],
   "metadata": {
    "collapsed": false
   }
  },
  {
   "cell_type": "code",
   "execution_count": 6,
   "outputs": [],
   "source": [
    "checkLength(tuples = tuples, singletons = singletons, targetLen = 15470)"
   ],
   "metadata": {
    "collapsed": false
   }
  },
  {
   "cell_type": "markdown",
   "source": [
    "# Handle duplicate images"
   ],
   "metadata": {
    "collapsed": false
   }
  },
  {
   "cell_type": "code",
   "execution_count": 7,
   "outputs": [],
   "source": [
    "noisyImagesPaths = getNoisyImagesPaths(tuples = tuples, folderPath = f)"
   ],
   "metadata": {
    "collapsed": false
   }
  },
  {
   "cell_type": "code",
   "execution_count": null,
   "outputs": [],
   "source": [
    "blurredImagesPaths = getBlurredImagesPaths(tuples = tuples, folderPath = f)"
   ],
   "metadata": {
    "collapsed": false,
    "pycharm": {
     "is_executing": true
    }
   }
  },
  {
   "cell_type": "code",
   "execution_count": null,
   "outputs": [],
   "source": [
    "noisyImagesToRemoveIDs = [i[:6] for i in noisyImagesPaths]"
   ],
   "metadata": {
    "collapsed": false,
    "pycharm": {
     "is_executing": true
    }
   }
  },
  {
   "cell_type": "code",
   "execution_count": null,
   "outputs": [],
   "source": [
    "imagesToRemove = noisyImagesPaths"
   ],
   "metadata": {
    "collapsed": false,
    "pycharm": {
     "is_executing": true
    }
   }
  },
  {
   "cell_type": "code",
   "execution_count": null,
   "outputs": [],
   "source": [
    "imagesToKeep = [x for x in paths if x not in imagesToRemove]"
   ],
   "metadata": {
    "collapsed": false,
    "pycharm": {
     "is_executing": true
    }
   }
  },
  {
   "cell_type": "markdown",
   "source": [
    "### 15.470 -> 12.086 Images after duplicates removal"
   ],
   "metadata": {
    "collapsed": false
   }
  },
  {
   "cell_type": "code",
   "execution_count": null,
   "outputs": [],
   "source": [
    "for imPath in imagesToRemove:\n",
    "    os.rename(os.path.join(f, imPath), os.path.join(duplicates_folder, imPath))"
   ],
   "metadata": {
    "collapsed": false,
    "pycharm": {
     "is_executing": true
    }
   }
  }
 ],
 "metadata": {
  "kernelspec": {
   "display_name": "Python 3",
   "language": "python",
   "name": "python3"
  },
  "language_info": {
   "codemirror_mode": {
    "name": "ipython",
    "version": 2
   },
   "file_extension": ".py",
   "mimetype": "text/x-python",
   "name": "python",
   "nbconvert_exporter": "python",
   "pygments_lexer": "ipython2",
   "version": "2.7.6"
  }
 },
 "nbformat": 4,
 "nbformat_minor": 0
}
