{
 "nbformat": 4,
 "nbformat_minor": 0,
 "metadata": {
  "colab": {
   "provenance": []
  },
  "kernelspec": {
   "name": "python3",
   "display_name": "Python 3"
  },
  "language_info": {
   "name": "python"
  },
  "accelerator": "GPU",
  "gpuClass": "standard"
 },
 "cells": [
  {
   "cell_type": "code",
   "source": [
    "from google.colab import drive\n",
    "drive.mount('/gdrive')"
   ],
   "metadata": {
    "id": "_9mWvf8IctJC"
   },
   "execution_count": null,
   "outputs": []
  },
  {
   "cell_type": "code",
   "execution_count": null,
   "metadata": {
    "id": "PgZqPvS2cqZV"
   },
   "outputs": [],
   "source": [
    "%cd /gdrive/MyDrive"
   ]
  },
  {
   "cell_type": "code",
   "source": [
    "!pip install focal-loss  -q gwpy"
   ],
   "metadata": {
    "id": "WoNL06zKeV_7"
   },
   "execution_count": null,
   "outputs": []
  },
  {
   "cell_type": "code",
   "source": [
    "!pip install matplotlib==3.1.3"
   ],
   "metadata": {
    "id": "3oYAMrurfCSE"
   },
   "execution_count": null,
   "outputs": []
  },
  {
   "cell_type": "code",
   "source": [
    "import numpy as np\n",
    "import tensorflow as tf\n",
    "from tensorflow import keras\n",
    "from focal_loss import SparseCategoricalFocalLoss\n",
    "# Display\n",
    "from IPython.display import Image, display\n",
    "import matplotlib.pyplot as plt\n",
    "import matplotlib.cm as cm"
   ],
   "metadata": {
    "id": "r-jfPKztd_F2"
   },
   "execution_count": null,
   "outputs": []
  },
  {
   "cell_type": "code",
   "source": [
    "img_size = (224,224)"
   ],
   "metadata": {
    "id": "se7VLCmpe6uB"
   },
   "execution_count": null,
   "outputs": []
  },
  {
   "cell_type": "code",
   "source": [
    "def get_img_array(img_path, size, channels=1):\n",
    "    # `img` is a PIL image of size 299x299\n",
    "    img = keras.preprocessing.image.load_img(img_path, color_mode=\"grayscale\", target_size=size)\n",
    "\n",
    "    # `array` is a float32 Numpy array of shape (299, 299, 3)\n",
    "    array = keras.preprocessing.image.img_to_array(img)\n",
    "    if channels==3:\n",
    "      array = np.stack([array, array, array], axis =-2)\n",
    "      array = np.squeeze(array)\n",
    "    # We add a dimension to transform our array into a \"batch\"\n",
    "    # of size (1, 299, 299, 3)\n",
    "    array = np.expand_dims(array, axis=0)\n",
    "    return array"
   ],
   "metadata": {
    "id": "qUYwNk6MeCCR"
   },
   "execution_count": null,
   "outputs": []
  },
  {
   "cell_type": "code",
   "source": [
    "def make_gradcam_heatmap(img_array, grad_model, last_conv_layer_name, pred_index=None):\n",
    "    # First, we create a model that maps the input image to the activations\n",
    "    # of the last conv layer as well as the output predictions\n",
    "\n",
    "    # Then, we compute the gradient of the top predicted class for our input image\n",
    "    # with respect to the activations of the last conv layer\n",
    "    with tf.GradientTape() as tape:\n",
    "        last_conv_layer_output, preds = grad_model(img_array)\n",
    "        if pred_index is None:\n",
    "            pred_index = tf.argmax(preds[0])\n",
    "        class_channel = preds[:, pred_index]\n",
    "\n",
    "    # This is the gradient of the output neuron (top predicted or chosen)\n",
    "    # with regard to the output feature map of the last conv layer\n",
    "    grads = tape.gradient(class_channel, last_conv_layer_output)\n",
    "\n",
    "    # This is a vector where each entry is the mean intensity of the gradient\n",
    "    # over a specific feature map channel\n",
    "    pooled_grads = tf.reduce_mean(grads, axis=(0, 1, 2))\n",
    "\n",
    "    # We multiply each channel in the feature map array\n",
    "    # by \"how important this channel is\" with regard to the top predicted class\n",
    "    # then sum all the channels to obtain the heatmap class activation\n",
    "    last_conv_layer_output = last_conv_layer_output[0]\n",
    "    heatmap = last_conv_layer_output @ pooled_grads[..., tf.newaxis]\n",
    "    heatmap = tf.squeeze(heatmap)\n",
    "\n",
    "    # For visualization purpose, we will also normalize the heatmap between 0 & 1\n",
    "    heatmap = tf.maximum(heatmap, 0) / tf.math.reduce_max(heatmap)\n",
    "    return heatmap.numpy()"
   ],
   "metadata": {
    "id": "YkFoTSRLeFts"
   },
   "execution_count": null,
   "outputs": []
  },
  {
   "cell_type": "code",
   "source": [
    "def save_and_display_gradcam(img_path, heatmap, cam_path=\"cam.jpg\", alpha=1):\n",
    "    # Load the original image\n",
    "    img = keras.preprocessing.image.load_img(img_path)\n",
    "    img = keras.preprocessing.image.img_to_array(img)\n",
    "\n",
    "    # Rescale heatmap to a range 0-255\n",
    "    heatmap = np.uint8(255 * heatmap)\n",
    "\n",
    "    # Use jet colormap to colorize heatmap\n",
    "    jet = cm.get_cmap(\"jet\")\n",
    "\n",
    "    # Use RGB values of the colormap\n",
    "    jet_colors = jet(np.arange(256))[:, :3]\n",
    "    jet_heatmap = jet_colors[heatmap]\n",
    "\n",
    "    # Create an image with RGB colorized heatmap\n",
    "    jet_heatmap = keras.preprocessing.image.array_to_img(jet_heatmap)\n",
    "    jet_heatmap = jet_heatmap.resize((img.shape[1], img.shape[0]))\n",
    "    jet_heatmap = keras.preprocessing.image.img_to_array(jet_heatmap)\n",
    "\n",
    "    # Superimpose the heatmap on original image\n",
    "    superimposed_img = jet_heatmap * alpha + img\n",
    "    superimposed_img = keras.preprocessing.image.array_to_img(superimposed_img)\n",
    "\n",
    "    # Save the superimposed image\n",
    "    superimposed_img.save(cam_path)\n",
    "\n",
    "    # Display Grad CAM\n",
    "    display(Image(cam_path))"
   ],
   "metadata": {
    "id": "jaJXTwaheyER"
   },
   "execution_count": null,
   "outputs": []
  },
  {
   "cell_type": "markdown",
   "source": [
    "# GradCam EffNet"
   ],
   "metadata": {
    "id": "4XX1AggdiK-4"
   }
  },
  {
   "cell_type": "code",
   "source": [
    "  # supernet.trainable = False\n",
    "from keras.layers import Dense,Flatten,GlobalAveragePooling2D, MaxPooling2D, BatchNormalization,Concatenate, Resizing\n",
    "from keras import regularizers\n",
    "def get_model():\n",
    "    inputs = tf.keras.layers.Input((224,224,3))\n",
    "    supernet = tf.keras.applications.EfficientNetV2B3(\n",
    "    include_top=False,\n",
    "    weights=\"imagenet\",\n",
    "    input_shape=(224,224,3),\n",
    "    input_tensor = inputs\n",
    ")\n",
    "\n",
    "    count = 1\n",
    "    for layer in supernet.layers:\n",
    "      if count < 80:\n",
    "          layer.trainable = False\n",
    "      else:\n",
    "          layer.trainable = True\n",
    "      count = count + 1\n",
    "\n",
    "\n",
    "\n",
    "    y2 = supernet(inputs)\n",
    "\n",
    "    y2 = tf.keras.layers.GlobalAveragePooling2D()(y2)\n",
    "    y2 = tf.keras.layers.Dense(256, activation='relu', kernel_initializer = tf.keras.initializers.HeUniform(4224))(y2)\n",
    "    outputs = tf.keras.layers.Dense(1, activation='sigmoid', kernel_initializer = tf.keras.initializers.GlorotUniform(4224))(y2)\n",
    "\n",
    "    # Connect input and output through the Model class\n",
    "    effNet = tf.keras.Model(inputs=inputs, outputs=outputs, name='model')\n",
    "\n",
    "   # Compile the model\n",
    "    effNet.compile(loss=tf.keras.losses.BinaryCrossentropy(), optimizer=tf.keras.optimizers.Adam(learning_rate = 1e-4), metrics='accuracy')\n",
    "\n",
    "    return effNet\n",
    "  "
   ],
   "metadata": {
    "id": "Pnk4fNuvj5HB"
   },
   "execution_count": null,
   "outputs": []
  },
  {
   "cell_type": "markdown",
   "source": [
    "## Gradcam T"
   ],
   "metadata": {
    "id": "aZFh9IMCl05B"
   }
  },
  {
   "cell_type": "code",
   "execution_count": null,
   "metadata": {
    "id": "otIIChs--blz"
   },
   "outputs": [],
   "source": [
    "effNet = get_model()"
   ]
  },
  {
   "cell_type": "code",
   "execution_count": null,
   "metadata": {
    "id": "cdfMaVww_YaB"
   },
   "outputs": [],
   "source": [
    "effNet.load_weights(\"/gdrive/MyDrive/tuberculosis-pneumonia-classification/model_exp3_T2.h5\")"
   ]
  },
  {
   "cell_type": "code",
   "source": [
    "effNet.summary()"
   ],
   "metadata": {
    "id": "aLF-RUQilXOY"
   },
   "execution_count": null,
   "outputs": []
  },
  {
   "cell_type": "code",
   "source": [
    "img_path_T = '/gdrive/MyDrive/tuberculosis-pneumonia-classification/data/train_all_no_duplicates/P16072_1.png'"
   ],
   "metadata": {
    "id": "AXqP7j5Cem8u"
   },
   "execution_count": null,
   "outputs": []
  },
  {
   "cell_type": "code",
   "source": [
    "last_conv_layer_name = \"top-activation\""
   ],
   "metadata": {
    "id": "m2YwY9Kjeeej"
   },
   "execution_count": null,
   "outputs": []
  },
  {
   "cell_type": "code",
   "source": [
    "print(effNet.layers[-1].activation)"
   ],
   "metadata": {
    "id": "nFOhDcaCk3qY"
   },
   "execution_count": null,
   "outputs": []
  },
  {
   "cell_type": "code",
   "source": [
    "img_array = get_img_array(img_path_T, img_size, channels=3)\n",
    "\n",
    "# Print what the top predicted class is\n",
    "preds = effNet.predict(img_array)\n",
    "print(preds)\n",
    "\n",
    "# Remove last layer's softmax\n",
    "effNet.layers[-1].activation = None\n",
    "effNet.compile(loss=tf.keras.losses.BinaryCrossentropy(), optimizer=tf.keras.optimizers.Adam(learning_rate = 1e-4), metrics='accuracy')\n",
    "\n",
    "# Print what the top predicted class is\n",
    "preds = effNet.predict(img_array)\n",
    "print(preds)\n",
    "\n",
    "gradModel = tf.keras.Model(\n",
    "        inputs=effNet.input,\n",
    "        outputs=[effNet.get_layer(\"global_average_pooling2d_21\").input,\n",
    "                 effNet.output])\n",
    "\n",
    "\n",
    "# Generate class activation heatmap\n",
    "heatmap = make_gradcam_heatmap(img_array, gradModel, last_conv_layer_name)\n",
    "\n",
    "# Display heatmap\n",
    "plt.matshow(heatmap)\n",
    "plt.show()"
   ],
   "metadata": {
    "id": "HnibN3W4evyE"
   },
   "execution_count": null,
   "outputs": []
  },
  {
   "cell_type": "code",
   "source": [
    "CAM_T_T_path1 = '/gdrive/MyDrive/AAIB/report_media/CAM_T_T21.jpg'"
   ],
   "metadata": {
    "id": "qFlr6Hv5bECh"
   },
   "execution_count": null,
   "outputs": []
  },
  {
   "cell_type": "code",
   "source": [
    "save_and_display_gradcam(img_path_T, heatmap, CAM_T_T_path1)"
   ],
   "metadata": {
    "id": "vMmjUu28fnws"
   },
   "execution_count": null,
   "outputs": []
  },
  {
   "cell_type": "markdown",
   "source": [
    "## GradCam N"
   ],
   "metadata": {
    "id": "SMdtu8-ql3pf"
   }
  },
  {
   "cell_type": "code",
   "source": [
    "img_path_N = '/gdrive/MyDrive/tuberculosis-pneumonia-classification/data/train_all_no_duplicates/P16043_1.png'"
   ],
   "metadata": {
    "id": "amgKFm5sh6aW"
   },
   "execution_count": null,
   "outputs": []
  },
  {
   "cell_type": "code",
   "execution_count": null,
   "metadata": {
    "id": "VotbLpMUlMQl"
   },
   "outputs": [],
   "source": [
    "effNet = get_model()"
   ]
  },
  {
   "cell_type": "code",
   "execution_count": null,
   "metadata": {
    "id": "v_pmLPeqlMQl"
   },
   "outputs": [],
   "source": [
    "effNet.load_weights(\"/gdrive/MyDrive/tuberculosis-pneumonia-classification/pablo/models/model_exp3_N2.h5\")"
   ]
  },
  {
   "cell_type": "code",
   "source": [
    "effNet.summary()"
   ],
   "metadata": {
    "id": "Lk5Am2ENlMQl"
   },
   "execution_count": null,
   "outputs": []
  },
  {
   "cell_type": "code",
   "source": [
    "last_conv_layer_name = \"top-activation\""
   ],
   "metadata": {
    "id": "EgdP65SzlMQl"
   },
   "execution_count": null,
   "outputs": []
  },
  {
   "cell_type": "code",
   "source": [
    "print(effNet.layers[-1].activation)"
   ],
   "metadata": {
    "id": "LRwC6SQflMQl"
   },
   "execution_count": null,
   "outputs": []
  },
  {
   "cell_type": "code",
   "source": [
    "img_array = get_img_array(img_path_N, img_size, channels=3)\n",
    "\n",
    "# Print what the top predicted class is\n",
    "preds = effNet.predict(img_array)\n",
    "print(preds)\n",
    "\n",
    "# Remove last layer's softmax\n",
    "effNet.layers[-1].activation = None\n",
    "effNet.compile(loss=tf.keras.losses.BinaryCrossentropy(), optimizer=tf.keras.optimizers.Adam(learning_rate = 1e-4), metrics='accuracy')\n",
    "\n",
    "# Print what the top predicted class is\n",
    "preds = effNet.predict(img_array)\n",
    "print(preds)\n",
    "\n",
    "gradModel = tf.keras.Model(\n",
    "        inputs=effNet.input,\n",
    "        outputs=[effNet.get_layer(\"global_average_pooling2d_23\").input,\n",
    "                 effNet.output])\n",
    "\n",
    "\n",
    "# Generate class activation heatmap\n",
    "heatmap = make_gradcam_heatmap(img_array, gradModel, last_conv_layer_name)\n",
    "\n",
    "# Display heatmap\n",
    "plt.matshow(heatmap)\n",
    "plt.show()"
   ],
   "metadata": {
    "id": "Kbg9mFiwlMQm"
   },
   "execution_count": null,
   "outputs": []
  },
  {
   "cell_type": "code",
   "source": [
    "CAM_S_S_path = '/gdrive/MyDrive/tuberculosis-pneumonia-classification/data_for_report/CAM_S_S2.jpg'"
   ],
   "metadata": {
    "id": "IoZQDJCNcIiW"
   },
   "execution_count": null,
   "outputs": []
  },
  {
   "cell_type": "code",
   "source": [
    "save_and_display_gradcam(img_path_N, heatmap, CAM_S_S_path)"
   ],
   "metadata": {
    "id": "5xl2WvjSgYDf"
   },
   "execution_count": null,
   "outputs": []
  },
  {
   "cell_type": "markdown",
   "source": [
    "## GradCam P"
   ],
   "metadata": {
    "id": "Sd5kq2KPl6vC"
   }
  },
  {
   "cell_type": "code",
   "source": [
    "img_path_P = '/gdrive/MyDrive/tuberculosis-pneumonia-classification/data/train_all_no_duplicates/P15529_1.jpeg'"
   ],
   "metadata": {
    "id": "Eky0gu9miJvd"
   },
   "execution_count": null,
   "outputs": []
  },
  {
   "cell_type": "code",
   "execution_count": null,
   "metadata": {
    "id": "upY--jxOlsZE"
   },
   "outputs": [],
   "source": [
    "effNet = get_model()"
   ]
  },
  {
   "cell_type": "code",
   "execution_count": null,
   "metadata": {
    "id": "JcAqbD-tlsZE"
   },
   "outputs": [],
   "source": [
    "effNet.load_weights(\"/gdrive/MyDrive/tuberculosis-pneumonia-classification/model_exp3_P2.h5\")"
   ]
  },
  {
   "cell_type": "code",
   "source": [
    "effNet.summary()"
   ],
   "metadata": {
    "id": "kr6YCusylsZE"
   },
   "execution_count": null,
   "outputs": []
  },
  {
   "cell_type": "code",
   "source": [
    "last_conv_layer_name = \"top-activation\""
   ],
   "metadata": {
    "id": "wOS1C3KklsZF"
   },
   "execution_count": null,
   "outputs": []
  },
  {
   "cell_type": "code",
   "source": [
    "print(effNet.layers[-1].activation)"
   ],
   "metadata": {
    "id": "FKWtVCHXlsZF"
   },
   "execution_count": null,
   "outputs": []
  },
  {
   "cell_type": "code",
   "source": [
    "img_array = get_img_array(img_path_P, img_size, channels=3)\n",
    "\n",
    "# Print what the top predicted class is\n",
    "preds = effNet.predict(img_array)\n",
    "print(preds)\n",
    "\n",
    "# Remove last layer's softmax\n",
    "effNet.layers[-1].activation = None\n",
    "effNet.compile(loss=tf.keras.losses.BinaryCrossentropy(), optimizer=tf.keras.optimizers.Adam(learning_rate = 1e-4), metrics='accuracy')\n",
    "\n",
    "# Print what the top predicted class is\n",
    "preds = effNet.predict(img_array)\n",
    "print(preds)\n",
    "\n",
    "gradModel = tf.keras.Model(\n",
    "        inputs=effNet.input,\n",
    "        outputs=[effNet.get_layer(\"global_average_pooling2d_28\").input,\n",
    "                 effNet.output])\n",
    "\n",
    "\n",
    "# Generate class activation heatmap\n",
    "heatmap = make_gradcam_heatmap(img_array, gradModel, last_conv_layer_name)\n",
    "\n",
    "# Display heatmap\n",
    "plt.matshow(heatmap)\n",
    "plt.show()"
   ],
   "metadata": {
    "id": "2TrGLgrAlsZF"
   },
   "execution_count": null,
   "outputs": []
  },
  {
   "cell_type": "code",
   "source": [
    "CAM_P_P_path = '/gdrive/MyDrive/tuberculosis-pneumonia-classification/data_for_report/CAM_P_P21.jpg'"
   ],
   "metadata": {
    "id": "Xe9uA3vHdCyw"
   },
   "execution_count": null,
   "outputs": []
  },
  {
   "cell_type": "code",
   "source": [
    "save_and_display_gradcam(img_path_P, heatmap, CAM_P_P_path)"
   ],
   "metadata": {
    "id": "VPlp6iiDhr5M"
   },
   "execution_count": null,
   "outputs": []
  },
  {
   "cell_type": "markdown",
   "source": [
    "# GradCam ResNet"
   ],
   "metadata": {
    "id": "c9S4JIRMihPO"
   }
  },
  {
   "cell_type": "code",
   "source": [
    "model = keras.models.load_model('/gdrive/MyDrive/bestResNetL.h5')"
   ],
   "metadata": {
    "id": "o_M0ORIbihPO"
   },
   "execution_count": null,
   "outputs": []
  },
  {
   "cell_type": "code",
   "source": [
    "model.summary()"
   ],
   "metadata": {
    "id": "Thsddci4ihPP"
   },
   "execution_count": null,
   "outputs": []
  },
  {
   "cell_type": "code",
   "source": [
    "last_conv_layer_name = \"activation_15\""
   ],
   "metadata": {
    "id": "OrdfNz63ihPP"
   },
   "execution_count": null,
   "outputs": []
  },
  {
   "cell_type": "code",
   "source": [
    "img_path = '/gdrive/MyDrive/tuberculosis-pneumonia-classification/data/train_all_no_duplicates/P16072_1.png'"
   ],
   "metadata": {
    "id": "bSVkx-9rihPP"
   },
   "execution_count": null,
   "outputs": []
  },
  {
   "cell_type": "code",
   "source": [
    "img_array = get_img_array(img_path, img_size)\n",
    "\n",
    "# Remove last layer's softmax\n",
    "model.layers[-1].activation = None\n",
    "\n",
    "# Print what the top predicted class is\n",
    "preds = model.predict(img_array)\n",
    "print(preds)\n",
    "grad_model = tf.keras.models.Model(\n",
    "        [model.inputs], [model.get_layer(last_conv_layer_name).output, model.output]\n",
    "    )\n",
    "\n",
    "# Generate class activation heatmap\n",
    "heatmap = make_gradcam_heatmap(img_array, grad_model, last_conv_layer_name)\n",
    "\n",
    "# Display heatmap\n",
    "plt.matshow(heatmap)\n",
    "plt.show()"
   ],
   "metadata": {
    "id": "RLkf9B3qihPP"
   },
   "execution_count": null,
   "outputs": []
  },
  {
   "cell_type": "code",
   "source": [
    "def save_and_display_gradcam(img_path, heatmap, cam_path=\"cam.jpg\", alpha=0.4):\n",
    "    # Load the original image\n",
    "    img = keras.preprocessing.image.load_img(img_path)\n",
    "    img = keras.preprocessing.image.img_to_array(img)\n",
    "\n",
    "    # Rescale heatmap to a range 0-255\n",
    "    heatmap = np.uint8(255 * heatmap)\n",
    "\n",
    "    # Use jet colormap to colorize heatmap\n",
    "    jet = cm.get_cmap(\"jet\")\n",
    "\n",
    "    # Use RGB values of the colormap\n",
    "    jet_colors = jet(np.arange(256))[:, :3]\n",
    "    jet_heatmap = jet_colors[heatmap]\n",
    "\n",
    "    # Create an image with RGB colorized heatmap\n",
    "    jet_heatmap = keras.preprocessing.image.array_to_img(jet_heatmap)\n",
    "    jet_heatmap = jet_heatmap.resize((img.shape[1], img.shape[0]))\n",
    "    jet_heatmap = keras.preprocessing.image.img_to_array(jet_heatmap)\n",
    "\n",
    "    # Superimpose the heatmap on original image\n",
    "    superimposed_img = jet_heatmap * alpha + img\n",
    "    superimposed_img = keras.preprocessing.image.array_to_img(superimposed_img)\n",
    "\n",
    "    # Save the superimposed image\n",
    "    superimposed_img.save(cam_path)\n",
    "\n",
    "    # Display Grad CAM\n",
    "    display(Image(cam_path))"
   ],
   "metadata": {
    "id": "zyls2wfFihPQ"
   },
   "execution_count": null,
   "outputs": []
  },
  {
   "cell_type": "code",
   "source": [
    "CAM_T_T_path1 = '/gdrive/MyDrive/tuberculosis-pneumonia-classification/CAM_T_T21.jpg'"
   ],
   "metadata": {
    "id": "XozxjRnsihPQ"
   },
   "execution_count": null,
   "outputs": []
  },
  {
   "cell_type": "code",
   "source": [
    "save_and_display_gradcam(img_path, heatmap, CAM_T_T_path1)"
   ],
   "metadata": {
    "id": "lGn23_uUihPQ"
   },
   "execution_count": null,
   "outputs": []
  },
  {
   "cell_type": "code",
   "source": [
    "img_path_N = '/gdrive/MyDrive/tuberculosis-pneumonia-classification/data/train_all_no_duplicates/P16043_1.png'"
   ],
   "metadata": {
    "id": "h4luEeVLihPQ"
   },
   "execution_count": null,
   "outputs": []
  },
  {
   "cell_type": "code",
   "source": [
    "img_array = get_img_array(img_path_N, img_size)\n",
    "\n",
    "# Remove last layer's softmax\n",
    "model.layers[-1].activation = None\n",
    "\n",
    "# Print what the top predicted class is\n",
    "preds = model.predict(img_array)\n",
    "\n",
    "grad_model = tf.keras.models.Model(\n",
    "        [model.inputs], [model.get_layer(last_conv_layer_name).output, model.output]\n",
    "    )\n",
    "\n",
    "# Generate class activation heatmap\n",
    "heatmap = make_gradcam_heatmap(img_array, grad_model, last_conv_layer_name)\n",
    "\n",
    "# Display heatmap\n",
    "plt.matshow(heatmap)\n",
    "plt.show()"
   ],
   "metadata": {
    "id": "Y7DBzhKxihPQ"
   },
   "execution_count": null,
   "outputs": []
  },
  {
   "cell_type": "code",
   "source": [
    "CAM_S_S_path = '/gdrive/MyDrive/tuberculosis-pneumonia-classification/CAM_S_S2.jpg'"
   ],
   "metadata": {
    "id": "uJbdhNBTihPR"
   },
   "execution_count": null,
   "outputs": []
  },
  {
   "cell_type": "code",
   "source": [
    "save_and_display_gradcam(img_path_N, heatmap, CAM_S_S_path)"
   ],
   "metadata": {
    "id": "TrkW8FXtihPR"
   },
   "execution_count": null,
   "outputs": []
  },
  {
   "cell_type": "code",
   "source": [
    "img_path_P = '/gdrive/MyDrive/tuberculosis-pneumonia-classification/data/train_all_no_duplicates/P15529_1.jpeg'"
   ],
   "metadata": {
    "id": "g6vozBZZihPR"
   },
   "execution_count": null,
   "outputs": []
  },
  {
   "cell_type": "code",
   "source": [
    "img_array = get_img_array(img_path_P, img_size)\n",
    "\n",
    "# Remove last layer's softmax\n",
    "model.layers[-1].activation = None\n",
    "\n",
    "# Print what the top predicted class is\n",
    "preds = model.predict(img_array)\n",
    "print(preds)\n",
    "\n",
    "grad_model = tf.keras.models.Model(\n",
    "        [model.inputs], [model.get_layer(last_conv_layer_name).output, model.output]\n",
    "    )\n",
    "\n",
    "# Generate class activation heatmap\n",
    "heatmap = make_gradcam_heatmap(img_array, grad_model, last_conv_layer_name)\n",
    "\n",
    "# Display heatmap\n",
    "plt.matshow(heatmap)\n",
    "plt.show()"
   ],
   "metadata": {
    "id": "t_u5-0yfihPR"
   },
   "execution_count": null,
   "outputs": []
  },
  {
   "cell_type": "code",
   "source": [
    "CAM_P_P_path = '/gdrive/MyDrive/tuberculosis-pneumonia-classification/CAM_P_P21.jpg'"
   ],
   "metadata": {
    "id": "FyHpXF7fihPR"
   },
   "execution_count": null,
   "outputs": []
  },
  {
   "cell_type": "code",
   "source": [
    "save_and_display_gradcam(img_path_P, heatmap, CAM_P_P_path)"
   ],
   "metadata": {
    "id": "S69UFk58ihPR"
   },
   "execution_count": null,
   "outputs": []
  }
 ]
}
